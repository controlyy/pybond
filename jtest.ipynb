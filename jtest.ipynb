{
 "cells": [
  {
   "cell_type": "code",
   "execution_count": 1,
   "metadata": {},
   "outputs": [],
   "source": [
    "import pandas as pd"
   ]
  },
  {
   "cell_type": "code",
   "execution_count": 2,
   "metadata": {},
   "outputs": [],
   "source": [
    "import matplotlib.pyplot as plt\n"
   ]
  },
  {
   "cell_type": "code",
   "execution_count": 3,
   "metadata": {},
   "outputs": [],
   "source": [
    "data = pd.read_csv('data/MSFT.csv', index_col='Date')"
   ]
  },
  {
   "cell_type": "code",
   "execution_count": 4,
   "metadata": {},
   "outputs": [
    {
     "data": {
      "text/html": [
       "<div>\n",
       "<style scoped>\n",
       "    .dataframe tbody tr th:only-of-type {\n",
       "        vertical-align: middle;\n",
       "    }\n",
       "\n",
       "    .dataframe tbody tr th {\n",
       "        vertical-align: top;\n",
       "    }\n",
       "\n",
       "    .dataframe thead th {\n",
       "        text-align: right;\n",
       "    }\n",
       "</style>\n",
       "<table border=\"1\" class=\"dataframe\">\n",
       "  <thead>\n",
       "    <tr style=\"text-align: right;\">\n",
       "      <th></th>\n",
       "      <th>Open</th>\n",
       "      <th>High</th>\n",
       "      <th>Low</th>\n",
       "      <th>Close</th>\n",
       "      <th>Adj Close</th>\n",
       "      <th>Volume</th>\n",
       "    </tr>\n",
       "    <tr>\n",
       "      <th>Date</th>\n",
       "      <th></th>\n",
       "      <th></th>\n",
       "      <th></th>\n",
       "      <th></th>\n",
       "      <th></th>\n",
       "      <th></th>\n",
       "    </tr>\n",
       "  </thead>\n",
       "  <tbody>\n",
       "    <tr>\n",
       "      <th>2015-01-02</th>\n",
       "      <td>46.660000</td>\n",
       "      <td>47.419998</td>\n",
       "      <td>46.540001</td>\n",
       "      <td>46.759998</td>\n",
       "      <td>40.620659</td>\n",
       "      <td>27913900</td>\n",
       "    </tr>\n",
       "    <tr>\n",
       "      <th>2015-01-05</th>\n",
       "      <td>46.369999</td>\n",
       "      <td>46.730000</td>\n",
       "      <td>46.250000</td>\n",
       "      <td>46.330002</td>\n",
       "      <td>40.247124</td>\n",
       "      <td>39673900</td>\n",
       "    </tr>\n",
       "    <tr>\n",
       "      <th>2015-01-06</th>\n",
       "      <td>46.380001</td>\n",
       "      <td>46.750000</td>\n",
       "      <td>45.540001</td>\n",
       "      <td>45.650002</td>\n",
       "      <td>39.656403</td>\n",
       "      <td>36447900</td>\n",
       "    </tr>\n",
       "    <tr>\n",
       "      <th>2015-01-07</th>\n",
       "      <td>45.980000</td>\n",
       "      <td>46.459999</td>\n",
       "      <td>45.490002</td>\n",
       "      <td>46.230000</td>\n",
       "      <td>40.160255</td>\n",
       "      <td>29114100</td>\n",
       "    </tr>\n",
       "    <tr>\n",
       "      <th>2015-01-08</th>\n",
       "      <td>46.750000</td>\n",
       "      <td>47.750000</td>\n",
       "      <td>46.720001</td>\n",
       "      <td>47.590000</td>\n",
       "      <td>41.341690</td>\n",
       "      <td>29645200</td>\n",
       "    </tr>\n",
       "    <tr>\n",
       "      <th>...</th>\n",
       "      <td>...</td>\n",
       "      <td>...</td>\n",
       "      <td>...</td>\n",
       "      <td>...</td>\n",
       "      <td>...</td>\n",
       "      <td>...</td>\n",
       "    </tr>\n",
       "    <tr>\n",
       "      <th>2023-07-10</th>\n",
       "      <td>334.600006</td>\n",
       "      <td>335.230011</td>\n",
       "      <td>327.589996</td>\n",
       "      <td>331.829987</td>\n",
       "      <td>331.829987</td>\n",
       "      <td>32791400</td>\n",
       "    </tr>\n",
       "    <tr>\n",
       "      <th>2023-07-11</th>\n",
       "      <td>331.059998</td>\n",
       "      <td>332.859985</td>\n",
       "      <td>327.000000</td>\n",
       "      <td>332.470001</td>\n",
       "      <td>332.470001</td>\n",
       "      <td>26698200</td>\n",
       "    </tr>\n",
       "    <tr>\n",
       "      <th>2023-07-12</th>\n",
       "      <td>336.600006</td>\n",
       "      <td>341.649994</td>\n",
       "      <td>335.670013</td>\n",
       "      <td>337.200012</td>\n",
       "      <td>337.200012</td>\n",
       "      <td>29995300</td>\n",
       "    </tr>\n",
       "    <tr>\n",
       "      <th>2023-07-13</th>\n",
       "      <td>339.559998</td>\n",
       "      <td>343.739990</td>\n",
       "      <td>339.019989</td>\n",
       "      <td>342.660004</td>\n",
       "      <td>342.660004</td>\n",
       "      <td>20567200</td>\n",
       "    </tr>\n",
       "    <tr>\n",
       "      <th>2023-07-14</th>\n",
       "      <td>347.589996</td>\n",
       "      <td>351.429993</td>\n",
       "      <td>344.309998</td>\n",
       "      <td>345.239990</td>\n",
       "      <td>345.239990</td>\n",
       "      <td>28302200</td>\n",
       "    </tr>\n",
       "  </tbody>\n",
       "</table>\n",
       "<p>2147 rows × 6 columns</p>\n",
       "</div>"
      ],
      "text/plain": [
       "                  Open        High         Low       Close   Adj Close  \\\n",
       "Date                                                                     \n",
       "2015-01-02   46.660000   47.419998   46.540001   46.759998   40.620659   \n",
       "2015-01-05   46.369999   46.730000   46.250000   46.330002   40.247124   \n",
       "2015-01-06   46.380001   46.750000   45.540001   45.650002   39.656403   \n",
       "2015-01-07   45.980000   46.459999   45.490002   46.230000   40.160255   \n",
       "2015-01-08   46.750000   47.750000   46.720001   47.590000   41.341690   \n",
       "...                ...         ...         ...         ...         ...   \n",
       "2023-07-10  334.600006  335.230011  327.589996  331.829987  331.829987   \n",
       "2023-07-11  331.059998  332.859985  327.000000  332.470001  332.470001   \n",
       "2023-07-12  336.600006  341.649994  335.670013  337.200012  337.200012   \n",
       "2023-07-13  339.559998  343.739990  339.019989  342.660004  342.660004   \n",
       "2023-07-14  347.589996  351.429993  344.309998  345.239990  345.239990   \n",
       "\n",
       "              Volume  \n",
       "Date                  \n",
       "2015-01-02  27913900  \n",
       "2015-01-05  39673900  \n",
       "2015-01-06  36447900  \n",
       "2015-01-07  29114100  \n",
       "2015-01-08  29645200  \n",
       "...              ...  \n",
       "2023-07-10  32791400  \n",
       "2023-07-11  26698200  \n",
       "2023-07-12  29995300  \n",
       "2023-07-13  20567200  \n",
       "2023-07-14  28302200  \n",
       "\n",
       "[2147 rows x 6 columns]"
      ]
     },
     "execution_count": 4,
     "metadata": {},
     "output_type": "execute_result"
    }
   ],
   "source": [
    "data"
   ]
  },
  {
   "cell_type": "code",
   "execution_count": 5,
   "metadata": {},
   "outputs": [
    {
     "data": {
      "text/plain": [
       "Date\n",
       "2015-01-02     46.660000\n",
       "2015-01-05     46.369999\n",
       "2015-01-06     46.380001\n",
       "2015-01-07     45.980000\n",
       "2015-01-08     46.750000\n",
       "                 ...    \n",
       "2023-07-10    334.600006\n",
       "2023-07-11    331.059998\n",
       "2023-07-12    336.600006\n",
       "2023-07-13    339.559998\n",
       "2023-07-14    347.589996\n",
       "Name: Open, Length: 2147, dtype: float64"
      ]
     },
     "execution_count": 5,
     "metadata": {},
     "output_type": "execute_result"
    }
   ],
   "source": [
    "data['Open']"
   ]
  },
  {
   "cell_type": "code",
   "execution_count": 6,
   "metadata": {},
   "outputs": [],
   "source": [
    "data1 = data['Open']"
   ]
  },
  {
   "cell_type": "code",
   "execution_count": 7,
   "metadata": {},
   "outputs": [
    {
     "data": {
      "text/plain": [
       "Date\n",
       "2015-01-02     46.660000\n",
       "2015-01-05     46.369999\n",
       "2015-01-06     46.380001\n",
       "2015-01-07     45.980000\n",
       "2015-01-08     46.750000\n",
       "                 ...    \n",
       "2023-07-10    334.600006\n",
       "2023-07-11    331.059998\n",
       "2023-07-12    336.600006\n",
       "2023-07-13    339.559998\n",
       "2023-07-14    347.589996\n",
       "Name: Open, Length: 2147, dtype: float64"
      ]
     },
     "execution_count": 7,
     "metadata": {},
     "output_type": "execute_result"
    }
   ],
   "source": [
    "data1"
   ]
  },
  {
   "cell_type": "code",
   "execution_count": 8,
   "metadata": {},
   "outputs": [
    {
     "ename": "NameError",
     "evalue": "name 'typeof' is not defined",
     "output_type": "error",
     "traceback": [
      "\u001b[0;31m---------------------------------------------------------------------------\u001b[0m",
      "\u001b[0;31mNameError\u001b[0m                                 Traceback (most recent call last)",
      "Cell \u001b[0;32mIn[8], line 1\u001b[0m\n\u001b[0;32m----> 1\u001b[0m typeof(data1)\n",
      "\u001b[0;31mNameError\u001b[0m: name 'typeof' is not defined"
     ]
    }
   ],
   "source": [
    "typeof(data1)"
   ]
  },
  {
   "cell_type": "code",
   "execution_count": 9,
   "metadata": {},
   "outputs": [
    {
     "data": {
      "text/plain": [
       "pandas.core.series.Series"
      ]
     },
     "execution_count": 9,
     "metadata": {},
     "output_type": "execute_result"
    }
   ],
   "source": [
    "type(data1)"
   ]
  },
  {
   "cell_type": "code",
   "execution_count": 10,
   "metadata": {},
   "outputs": [
    {
     "data": {
      "text/plain": [
       "pandas.core.frame.DataFrame"
      ]
     },
     "execution_count": 10,
     "metadata": {},
     "output_type": "execute_result"
    }
   ],
   "source": [
    "type(data)"
   ]
  },
  {
   "cell_type": "code",
   "execution_count": 14,
   "metadata": {},
   "outputs": [],
   "source": [
    "data_slow = data1.rolling(10).mean()"
   ]
  },
  {
   "cell_type": "code",
   "execution_count": 15,
   "metadata": {},
   "outputs": [
    {
     "data": {
      "text/plain": [
       "Date\n",
       "2015-01-02           NaN\n",
       "2015-01-05           NaN\n",
       "2015-01-06           NaN\n",
       "2015-01-07           NaN\n",
       "2015-01-08           NaN\n",
       "                 ...    \n",
       "2023-07-10    335.819998\n",
       "2023-07-11    335.553998\n",
       "2023-07-12    336.028000\n",
       "2023-07-13    336.517999\n",
       "2023-07-14    337.806000\n",
       "Name: Open, Length: 2147, dtype: float64"
      ]
     },
     "execution_count": 15,
     "metadata": {},
     "output_type": "execute_result"
    }
   ],
   "source": [
    "data_slow"
   ]
  },
  {
   "cell_type": "code",
   "execution_count": null,
   "metadata": {},
   "outputs": [],
   "source": []
  },
  {
   "cell_type": "code",
   "execution_count": 12,
   "metadata": {},
   "outputs": [
    {
     "data": {
      "text/html": [
       "<div>\n",
       "<style scoped>\n",
       "    .dataframe tbody tr th:only-of-type {\n",
       "        vertical-align: middle;\n",
       "    }\n",
       "\n",
       "    .dataframe tbody tr th {\n",
       "        vertical-align: top;\n",
       "    }\n",
       "\n",
       "    .dataframe thead th {\n",
       "        text-align: right;\n",
       "    }\n",
       "</style>\n",
       "<table border=\"1\" class=\"dataframe\">\n",
       "  <thead>\n",
       "    <tr style=\"text-align: right;\">\n",
       "      <th></th>\n",
       "      <th>Open</th>\n",
       "      <th>High</th>\n",
       "      <th>Low</th>\n",
       "      <th>Close</th>\n",
       "      <th>Adj Close</th>\n",
       "      <th>Volume</th>\n",
       "    </tr>\n",
       "    <tr>\n",
       "      <th>Date</th>\n",
       "      <th></th>\n",
       "      <th></th>\n",
       "      <th></th>\n",
       "      <th></th>\n",
       "      <th></th>\n",
       "      <th></th>\n",
       "    </tr>\n",
       "  </thead>\n",
       "  <tbody>\n",
       "    <tr>\n",
       "      <th>2015-01-02</th>\n",
       "      <td>NaN</td>\n",
       "      <td>NaN</td>\n",
       "      <td>NaN</td>\n",
       "      <td>NaN</td>\n",
       "      <td>NaN</td>\n",
       "      <td>NaN</td>\n",
       "    </tr>\n",
       "    <tr>\n",
       "      <th>2015-01-05</th>\n",
       "      <td>NaN</td>\n",
       "      <td>NaN</td>\n",
       "      <td>NaN</td>\n",
       "      <td>NaN</td>\n",
       "      <td>NaN</td>\n",
       "      <td>NaN</td>\n",
       "    </tr>\n",
       "    <tr>\n",
       "      <th>2015-01-06</th>\n",
       "      <td>NaN</td>\n",
       "      <td>NaN</td>\n",
       "      <td>NaN</td>\n",
       "      <td>NaN</td>\n",
       "      <td>NaN</td>\n",
       "      <td>NaN</td>\n",
       "    </tr>\n",
       "    <tr>\n",
       "      <th>2015-01-07</th>\n",
       "      <td>NaN</td>\n",
       "      <td>NaN</td>\n",
       "      <td>NaN</td>\n",
       "      <td>NaN</td>\n",
       "      <td>NaN</td>\n",
       "      <td>NaN</td>\n",
       "    </tr>\n",
       "    <tr>\n",
       "      <th>2015-01-08</th>\n",
       "      <td>NaN</td>\n",
       "      <td>NaN</td>\n",
       "      <td>NaN</td>\n",
       "      <td>NaN</td>\n",
       "      <td>NaN</td>\n",
       "      <td>NaN</td>\n",
       "    </tr>\n",
       "    <tr>\n",
       "      <th>...</th>\n",
       "      <td>...</td>\n",
       "      <td>...</td>\n",
       "      <td>...</td>\n",
       "      <td>...</td>\n",
       "      <td>...</td>\n",
       "      <td>...</td>\n",
       "    </tr>\n",
       "    <tr>\n",
       "      <th>2023-07-10</th>\n",
       "      <td>335.819998</td>\n",
       "      <td>339.163998</td>\n",
       "      <td>333.281000</td>\n",
       "      <td>336.106998</td>\n",
       "      <td>336.106998</td>\n",
       "      <td>22277400.0</td>\n",
       "    </tr>\n",
       "    <tr>\n",
       "      <th>2023-07-11</th>\n",
       "      <td>335.553998</td>\n",
       "      <td>338.838998</td>\n",
       "      <td>333.132001</td>\n",
       "      <td>336.493997</td>\n",
       "      <td>336.493997</td>\n",
       "      <td>22795160.0</td>\n",
       "    </tr>\n",
       "    <tr>\n",
       "      <th>2023-07-12</th>\n",
       "      <td>336.028000</td>\n",
       "      <td>339.388998</td>\n",
       "      <td>333.769003</td>\n",
       "      <td>336.756998</td>\n",
       "      <td>336.756998</td>\n",
       "      <td>23359280.0</td>\n",
       "    </tr>\n",
       "    <tr>\n",
       "      <th>2023-07-13</th>\n",
       "      <td>336.517999</td>\n",
       "      <td>339.964996</td>\n",
       "      <td>334.290002</td>\n",
       "      <td>337.437997</td>\n",
       "      <td>337.437997</td>\n",
       "      <td>23390050.0</td>\n",
       "    </tr>\n",
       "    <tr>\n",
       "      <th>2023-07-14</th>\n",
       "      <td>337.806000</td>\n",
       "      <td>341.496997</td>\n",
       "      <td>335.459003</td>\n",
       "      <td>338.456998</td>\n",
       "      <td>338.456998</td>\n",
       "      <td>24520570.0</td>\n",
       "    </tr>\n",
       "  </tbody>\n",
       "</table>\n",
       "<p>2147 rows × 6 columns</p>\n",
       "</div>"
      ],
      "text/plain": [
       "                  Open        High         Low       Close   Adj Close  \\\n",
       "Date                                                                     \n",
       "2015-01-02         NaN         NaN         NaN         NaN         NaN   \n",
       "2015-01-05         NaN         NaN         NaN         NaN         NaN   \n",
       "2015-01-06         NaN         NaN         NaN         NaN         NaN   \n",
       "2015-01-07         NaN         NaN         NaN         NaN         NaN   \n",
       "2015-01-08         NaN         NaN         NaN         NaN         NaN   \n",
       "...                ...         ...         ...         ...         ...   \n",
       "2023-07-10  335.819998  339.163998  333.281000  336.106998  336.106998   \n",
       "2023-07-11  335.553998  338.838998  333.132001  336.493997  336.493997   \n",
       "2023-07-12  336.028000  339.388998  333.769003  336.756998  336.756998   \n",
       "2023-07-13  336.517999  339.964996  334.290002  337.437997  337.437997   \n",
       "2023-07-14  337.806000  341.496997  335.459003  338.456998  338.456998   \n",
       "\n",
       "                Volume  \n",
       "Date                    \n",
       "2015-01-02         NaN  \n",
       "2015-01-05         NaN  \n",
       "2015-01-06         NaN  \n",
       "2015-01-07         NaN  \n",
       "2015-01-08         NaN  \n",
       "...                ...  \n",
       "2023-07-10  22277400.0  \n",
       "2023-07-11  22795160.0  \n",
       "2023-07-12  23359280.0  \n",
       "2023-07-13  23390050.0  \n",
       "2023-07-14  24520570.0  \n",
       "\n",
       "[2147 rows x 6 columns]"
      ]
     },
     "execution_count": 12,
     "metadata": {},
     "output_type": "execute_result"
    }
   ],
   "source": [
    "data_slow"
   ]
  },
  {
   "cell_type": "code",
   "execution_count": 13,
   "metadata": {},
   "outputs": [
    {
     "data": {
      "text/plain": [
       "Date\n",
       "2015-01-02     46.660000\n",
       "2015-01-05     46.369999\n",
       "2015-01-06     46.380001\n",
       "2015-01-07     45.980000\n",
       "2015-01-08     46.750000\n",
       "                 ...    \n",
       "2023-07-10    334.600006\n",
       "2023-07-11    331.059998\n",
       "2023-07-12    336.600006\n",
       "2023-07-13    339.559998\n",
       "2023-07-14    347.589996\n",
       "Name: Open, Length: 2147, dtype: float64"
      ]
     },
     "execution_count": 13,
     "metadata": {},
     "output_type": "execute_result"
    }
   ],
   "source": [
    "data1"
   ]
  },
  {
   "cell_type": "code",
   "execution_count": 16,
   "metadata": {},
   "outputs": [
    {
     "data": {
      "text/plain": [
       "pandas.core.series.Series"
      ]
     },
     "execution_count": 16,
     "metadata": {},
     "output_type": "execute_result"
    }
   ],
   "source": [
    "type(data1)"
   ]
  },
  {
   "cell_type": "code",
   "execution_count": 18,
   "metadata": {},
   "outputs": [],
   "source": [
    "new_data = pd.core.frame.DataFrame\n"
   ]
  },
  {
   "cell_type": "code",
   "execution_count": 19,
   "metadata": {},
   "outputs": [
    {
     "data": {
      "text/plain": [
       "pandas.core.frame.DataFrame"
      ]
     },
     "execution_count": 19,
     "metadata": {},
     "output_type": "execute_result"
    }
   ],
   "source": [
    "new_data"
   ]
  },
  {
   "cell_type": "code",
   "execution_count": 20,
   "metadata": {},
   "outputs": [
    {
     "ename": "TypeError",
     "evalue": "'type' object does not support item assignment",
     "output_type": "error",
     "traceback": [
      "\u001b[0;31m---------------------------------------------------------------------------\u001b[0m",
      "\u001b[0;31mTypeError\u001b[0m                                 Traceback (most recent call last)",
      "Cell \u001b[0;32mIn[20], line 1\u001b[0m\n\u001b[0;32m----> 1\u001b[0m new_data[\u001b[39m'\u001b[39;49m\u001b[39mdata\u001b[39;49m\u001b[39m'\u001b[39;49m] \u001b[39m=\u001b[39m data1\n",
      "\u001b[0;31mTypeError\u001b[0m: 'type' object does not support item assignment"
     ]
    }
   ],
   "source": [
    "new_data['data'] = data1"
   ]
  },
  {
   "cell_type": "code",
   "execution_count": 21,
   "metadata": {},
   "outputs": [
    {
     "data": {
      "text/plain": [
       "pandas.core.frame.DataFrame"
      ]
     },
     "execution_count": 21,
     "metadata": {},
     "output_type": "execute_result"
    }
   ],
   "source": [
    "new_data"
   ]
  },
  {
   "cell_type": "code",
   "execution_count": 22,
   "metadata": {},
   "outputs": [
    {
     "ename": "TypeError",
     "evalue": "'type' object does not support item assignment",
     "output_type": "error",
     "traceback": [
      "\u001b[0;31m---------------------------------------------------------------------------\u001b[0m",
      "\u001b[0;31mTypeError\u001b[0m                                 Traceback (most recent call last)",
      "Cell \u001b[0;32mIn[22], line 1\u001b[0m\n\u001b[0;32m----> 1\u001b[0m new_data[\u001b[39m'\u001b[39;49m\u001b[39mdata\u001b[39;49m\u001b[39m'\u001b[39;49m] \u001b[39m=\u001b[39m data1\n",
      "\u001b[0;31mTypeError\u001b[0m: 'type' object does not support item assignment"
     ]
    }
   ],
   "source": [
    "new_data['data'] = data1"
   ]
  },
  {
   "cell_type": "code",
   "execution_count": 30,
   "metadata": {},
   "outputs": [
    {
     "ename": "TypeError",
     "evalue": "'type' object does not support item assignment",
     "output_type": "error",
     "traceback": [
      "\u001b[0;31m---------------------------------------------------------------------------\u001b[0m",
      "\u001b[0;31mTypeError\u001b[0m                                 Traceback (most recent call last)",
      "Cell \u001b[0;32mIn[30], line 1\u001b[0m\n\u001b[0;32m----> 1\u001b[0m new_data[\u001b[39m'\u001b[39;49m\u001b[39mdata\u001b[39;49m\u001b[39m'\u001b[39;49m] \u001b[39m=\u001b[39m data1\n",
      "\u001b[0;31mTypeError\u001b[0m: 'type' object does not support item assignment"
     ]
    }
   ],
   "source": [
    "new_data['data'] = data1"
   ]
  }
 ],
 "metadata": {
  "kernelspec": {
   "display_name": "Python 3",
   "language": "python",
   "name": "python3"
  },
  "language_info": {
   "codemirror_mode": {
    "name": "ipython",
    "version": 3
   },
   "file_extension": ".py",
   "mimetype": "text/x-python",
   "name": "python",
   "nbconvert_exporter": "python",
   "pygments_lexer": "ipython3",
   "version": "3.11.4"
  },
  "orig_nbformat": 4
 },
 "nbformat": 4,
 "nbformat_minor": 2
}
